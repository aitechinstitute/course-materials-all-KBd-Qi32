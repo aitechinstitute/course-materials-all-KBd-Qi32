{
 "cells": [
  {
   "cell_type": "markdown",
   "id": "8c4d4790",
   "metadata": {},
   "source": [
    "# AI TECH INSTITUTE · Week 00 Deep Dive — Print, Comments, and input()"
   ]
  },
  {
   "cell_type": "markdown",
   "id": "7840780f",
   "metadata": {},
   "source": [
    "Master the fundamentals of console I/O and communication with your future self."
   ]
  },
  {
   "cell_type": "markdown",
   "id": "4629b455",
   "metadata": {},
   "source": [
    "## 1. print() essentials"
   ]
  },
  {
   "cell_type": "code",
   "execution_count": null,
   "id": "bcfc68a4",
   "metadata": {},
   "outputs": [],
   "source": [
    "print(\"AI\", \"Tech\", \"Institute\", sep=\" · \", end=\" 🚀\\n\")"
   ]
  },
  {
   "cell_type": "markdown",
   "id": "f6c2dbe0",
   "metadata": {},
   "source": [
    "### Exercise A1 — Echo 3 ways (easy)\n",
    "Print your name using: (1) simple print, (2) f-string, (3) string concatenation."
   ]
  },
  {
   "cell_type": "code",
   "execution_count": 13,
   "id": "3888946c",
   "metadata": {},
   "outputs": [
    {
     "name": "stdout",
     "output_type": "stream",
     "text": [
      "My name is Kresna Laksono\n",
      "My name is Kresna Laksono\n",
      "My name is Kresna Laksono\n"
     ]
    }
   ],
   "source": [
    "# Your turn\n",
    "print(\"My name is Kresna Laksono\")\n",
    "name = \"Kresna\"\n",
    "last_nm = \"Laksono\"\n",
    "print(f\"My name is {name} {last_nm}\")\n",
    "print(\"My name is \" + name + \" \" + last_nm)"
   ]
  },
  {
   "cell_type": "markdown",
   "id": "508367a4",
   "metadata": {},
   "source": [
    "<details>\n",
    "<summary><b>Solution</b></summary>\n",
    "\n",
    "```python\n",
    "name=\"Amir\"\n",
    "print(name)\n",
    "print(f\"My name is {name}\")\n",
    "print(\"My name is \" + name)\n",
    "```\n",
    "</details>"
   ]
  },
  {
   "cell_type": "markdown",
   "id": "46703d59",
   "metadata": {},
   "source": [
    "## 2. Comments & docstrings"
   ]
  },
  {
   "cell_type": "code",
   "execution_count": null,
   "id": "bae151b0",
   "metadata": {},
   "outputs": [],
   "source": [
    "# Single-line comment\n",
    "\"\"\" Module or block docstring explaining purpose. \"\"\"\n",
    "print(\"Ready\")"
   ]
  },
  {
   "cell_type": "markdown",
   "id": "413471dd",
   "metadata": {},
   "source": [
    "### Exercise A2 — Annotate (easy)\n",
    "Add comments explaining each line of a short script that computes area of a circle."
   ]
  },
  {
   "cell_type": "code",
   "execution_count": 14,
   "id": "6d071089",
   "metadata": {},
   "outputs": [
    {
     "name": "stdout",
     "output_type": "stream",
     "text": [
      "The area of circle with radius of 3 is 28.26\n"
     ]
    }
   ],
   "source": [
    "# Your turn\n",
    "'''This is the formula for area of circle'''\n",
    "r = 3 # this is the radius of the circle\n",
    "pi = 3.14 # usually with symbol π - the constant ratio for a circle's circumference to its diameter\n",
    "\n",
    "A = pi * (r**2) # the formula of circle's area\n",
    "\n",
    "print(f\"The area of circle with radius of {r} is {A}\")\n"
   ]
  },
  {
   "cell_type": "markdown",
   "id": "6976b962",
   "metadata": {},
   "source": [
    "<details>\n",
    "<summary><b>Solution</b></summary>\n",
    "\n",
    "```python\n",
    "# radius input\n",
    "r = 3\n",
    "# compute area\n",
    "area = 3.14159 * (r**2)\n",
    "# show result\n",
    "print(area)\n",
    "```\n",
    "</details>"
   ]
  },
  {
   "cell_type": "markdown",
   "id": "9b13044d",
   "metadata": {},
   "source": [
    "## 3. input(): getting data\n",
    "input() returns **str** — convert to number when needed."
   ]
  },
  {
   "cell_type": "code",
   "execution_count": null,
   "id": "2ba2b0a7",
   "metadata": {},
   "outputs": [],
   "source": [
    "# age_str = input(\"Age: \")\\nage = 28  # int(age_str)\\nprint(\"Next year:\", age+1)"
   ]
  },
  {
   "cell_type": "markdown",
   "id": "c6640fe4",
   "metadata": {},
   "source": [
    "### Exercise A3 — Greeter+ (easy)\n",
    "Ask for name and favorite language, print a nice sentence."
   ]
  },
  {
   "cell_type": "code",
   "execution_count": 15,
   "id": "c4c86115",
   "metadata": {},
   "outputs": [
    {
     "name": "stdin",
     "output_type": "stream",
     "text": [
      "What is your name?\n",
      " kresna\n",
      "Please input your favorite language:  Japanese\n"
     ]
    },
    {
     "name": "stdout",
     "output_type": "stream",
     "text": [
      "\n",
      "So, Kresna is very fond of japanese language\n"
     ]
    }
   ],
   "source": [
    "# Your turn\n",
    "name = str(input(\"What is your name?\\n\").capitalize()) # because its a name whatever the input, it will capitalize the first letter\n",
    "fav_lang = str(input(\"Please input your favorite language: \").lower()) # language will all be lowercased despite the user input\n",
    "\n",
    "print(f\"\\nSo, {name} is very fond of {fav_lang} language\")"
   ]
  },
  {
   "cell_type": "markdown",
   "id": "2ff3fc3b",
   "metadata": {},
   "source": [
    "<details>\n",
    "<summary><b>Solution</b></summary>\n",
    "\n",
    "```python\n",
    "name = \"Alex\"\n",
    "lang = \"Python\"\n",
    "print(f\"Nice to meet you, {name}. {lang} is awesome!\")\n",
    "```\n",
    "</details>"
   ]
  },
  {
   "cell_type": "markdown",
   "id": "281c4464",
   "metadata": {},
   "source": [
    "### Exercise A4 — Unit converter (medium)\n",
    "Ask for kilometers (float), convert to miles, round to 2 dp."
   ]
  },
  {
   "cell_type": "code",
   "execution_count": 16,
   "id": "9f3b5382",
   "metadata": {},
   "outputs": [
    {
     "name": "stdin",
     "output_type": "stream",
     "text": [
      "Input a distance in kilometers:  8.32076\n"
     ]
    },
    {
     "name": "stdout",
     "output_type": "stream",
     "text": [
      "The conversion of 8.32076 km is 5.17 mi.\n"
     ]
    }
   ],
   "source": [
    "# Your turn\n",
    "inp_km = float(input(\"Input a distance in kilometers: \"))\n",
    "conv_ratio = 0.62137\n",
    "miles = inp_km * conv_ratio\n",
    "\n",
    "print(f\"The conversion of {inp_km} km is {miles:.2f} mi.\")"
   ]
  },
  {
   "cell_type": "markdown",
   "id": "fad124cb",
   "metadata": {},
   "source": [
    "<details>\n",
    "<summary><b>Solution</b></summary>\n",
    "\n",
    "```python\n",
    "km = 5.0\n",
    "miles = round(km * 0.621371, 2)\n",
    "print(miles)\n",
    "```\n",
    "</details>"
   ]
  },
  {
   "cell_type": "markdown",
   "id": "2e50e972",
   "metadata": {},
   "source": [
    "### Exercise A5 — Safe input (hard)\n",
    "Keep asking for an integer until the user provides a valid one (use try/except)."
   ]
  },
  {
   "cell_type": "code",
   "execution_count": 18,
   "id": "933f5994",
   "metadata": {},
   "outputs": [
    {
     "name": "stdin",
     "output_type": "stream",
     "text": [
      "Please enter a whole number:  4.5\n"
     ]
    },
    {
     "name": "stdout",
     "output_type": "stream",
     "text": [
      "Invalid input. Please enter an integer only.\n"
     ]
    },
    {
     "name": "stdin",
     "output_type": "stream",
     "text": [
      "Please enter a whole number:  eight\n"
     ]
    },
    {
     "name": "stdout",
     "output_type": "stream",
     "text": [
      "Invalid input. Please enter an integer only.\n"
     ]
    },
    {
     "name": "stdin",
     "output_type": "stream",
     "text": [
      "Please enter a whole number:  23\n"
     ]
    },
    {
     "name": "stdout",
     "output_type": "stream",
     "text": [
      "The number you have correctly entered is 23\n"
     ]
    }
   ],
   "source": [
    "# Your turn\n",
    "while True:\n",
    "    try:\n",
    "        num = int(input(\"Please enter a whole number: \"))\n",
    "        print(f\"The number you have correctly entered is {num}\")\n",
    "        break\n",
    "    except ValueError:\n",
    "        print(\"Invalid input. Please enter an integer only.\")\n",
    "        "
   ]
  },
  {
   "cell_type": "markdown",
   "id": "79cf8cd1",
   "metadata": {},
   "source": [
    "<details>\n",
    "<summary><b>Solution</b></summary>\n",
    "\n",
    "```python\n",
    "while True:\n",
    "    s = \"42\"\n",
    "    try:\n",
    "        val = int(s)\n",
    "        break\n",
    "    except ValueError:\n",
    "        pass\n",
    "print(val)\n",
    "```\n",
    "</details>"
   ]
  }
 ],
 "metadata": {
  "kernelspec": {
   "display_name": "Kres Jpyt AI_tech (Py3_13)",
   "language": "python",
   "name": "qrs_jupyter_work_env"
  },
  "language_info": {
   "codemirror_mode": {
    "name": "ipython",
    "version": 3
   },
   "file_extension": ".py",
   "mimetype": "text/x-python",
   "name": "python",
   "nbconvert_exporter": "python",
   "pygments_lexer": "ipython3",
   "version": "3.13.5"
  },
  "toc": {
   "base_numbering": 1,
   "nav_menu": {},
   "number_sections": false,
   "sideBar": true,
   "skip_h1_title": false,
   "title_cell": "Table of Contents",
   "title_sidebar": "Contents",
   "toc_cell": false,
   "toc_position": {},
   "toc_section_display": true,
   "toc_window_display": true
  }
 },
 "nbformat": 4,
 "nbformat_minor": 5
}
