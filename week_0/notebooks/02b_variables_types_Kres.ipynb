{
 "cells": [
  {
   "cell_type": "markdown",
   "id": "72b01e30",
   "metadata": {},
   "source": [
    "# Week 00 Deep Dive — Variables & Basic Types"
   ]
  },
  {
   "cell_type": "markdown",
   "id": "498c29a2",
   "metadata": {},
   "source": [
    "Understand naming, assignment, mutability, and type conversion."
   ]
  },
  {
   "cell_type": "markdown",
   "id": "21a19776",
   "metadata": {},
   "source": [
    "## 1. Naming & assignment"
   ]
  },
  {
   "cell_type": "code",
   "execution_count": null,
   "id": "9df22377",
   "metadata": {},
   "outputs": [],
   "source": [
    "user_name = \"Amir\"; age = 32; pi = 3.14159; enrolled = True\n",
    "print(user_name, age, pi, enrolled)"
   ]
  },
  {
   "cell_type": "markdown",
   "id": "3401d1a8",
   "metadata": {},
   "source": [
    "### Exercise B1 — Bio line (easy)\n",
    "Create 4 variables (name, age, height_m, enrolled) and print one sentence."
   ]
  },
  {
   "cell_type": "code",
   "execution_count": 7,
   "id": "8f0ecb72",
   "metadata": {},
   "outputs": [
    {
     "name": "stdin",
     "output_type": "stream",
     "text": [
      "Enter your first name:  kres\n",
      "Enter your age:  25\n",
      "Input your height in meters:  178\n"
     ]
    },
    {
     "name": "stdout",
     "output_type": "stream",
     "text": [
      "Height must be less than 3 meters and not in centimeters. Please try again.\n"
     ]
    },
    {
     "name": "stdin",
     "output_type": "stream",
     "text": [
      "Input your height in meters:  1.78\n",
      "Have you enrolled?  yes\n"
     ]
    },
    {
     "name": "stdout",
     "output_type": "stream",
     "text": [
      "\n",
      "Summary: Kres of 25 years old and 1.78 m of height has enrolled in this course.\n"
     ]
    }
   ],
   "source": [
    "# Your turn\n",
    "name = str(input(\"Enter your first name: \").capitalize()) # Name will always be capitalized despite user input\n",
    "age = int(input(\"Enter your age: \"))\n",
    "while True: # to make user input value in meters not centimeters\n",
    "    try:\n",
    "        height_m = float(input(\"Input your height in meters: \"))\n",
    "        if height_m < 3:\n",
    "            break\n",
    "        else:# if the height is abnormal, print an error and the loop continues\n",
    "            print(\"Height must be less than 3 meters and not in centimeters. Please try again.\")\n",
    "    except ValueError:\n",
    "        print(\"Invalid input. Please enter height in meters.\")\n",
    "enrolled = str(input(\"Have you enrolled? \").lower())\n",
    "if enrolled == \"yes\" or enrolled == \"I have\": # to mitigate if user have not enrolled\n",
    "    print(f\"\\nSummary: {name} of {age} years old and {height_m} m of height has enrolled in this course.\")\n",
    "else:\n",
    "    print(f\"\\nSorry, student with name {name} has not enrolled yet. \")"
   ]
  },
  {
   "cell_type": "markdown",
   "id": "4ff8b4d0",
   "metadata": {},
   "source": [
    "<details>\n",
    "<summary><b>Solution</b></summary>\n",
    "\n",
    "```python\n",
    "name=\"Amir\"; age=32; height=1.78; enrolled=True\n",
    "print(f\"{name} | {age} | {height}m | enrolled={enrolled}\")\n",
    "```\n",
    "</details>"
   ]
  },
  {
   "cell_type": "markdown",
   "id": "7707849e",
   "metadata": {},
   "source": [
    "## 2. Type checks & casting"
   ]
  },
  {
   "cell_type": "code",
   "execution_count": null,
   "id": "2cf92af5",
   "metadata": {},
   "outputs": [],
   "source": [
    "x=\"3\"; print(type(x)); x=int(x); print(type(x), x+1)"
   ]
  },
  {
   "cell_type": "markdown",
   "id": "230f5d5d",
   "metadata": {},
   "source": [
    "### Exercise B2 — Robust cast (medium)\n",
    "Given `values=['3','5.2','hi','7']`, convert **only** numeric strings to floats; skip others."
   ]
  },
  {
   "cell_type": "code",
   "execution_count": 8,
   "id": "a4b186a3",
   "metadata": {},
   "outputs": [
    {
     "name": "stdout",
     "output_type": "stream",
     "text": [
      "The string '3' is numeric, converted to a float: 3.0. \n",
      "The string '5.2' is numeric, converted to a float: 5.2. \n",
      "The string 'hi' is non-numeric, conversion is skipped. \n",
      "The string '7' is numeric, converted to a float: 7.0. \n"
     ]
    }
   ],
   "source": [
    "# Your turn\n",
    "values=['3','5.2','hi','7']\n",
    "for i in values:\n",
    "    try:\n",
    "        float_val = float(i)\n",
    "        print(f\"The string '{i}' is numeric, converted to a float: {float_val}. \")\n",
    "    except ValueError:\n",
    "        print(f\"The string '{i}' is non-numeric, conversion is skipped. \")"
   ]
  },
  {
   "cell_type": "markdown",
   "id": "d05d06cb",
   "metadata": {},
   "source": [
    "<details>\n",
    "<summary><b>Solution</b></summary>\n",
    "\n",
    "```python\n",
    "values=['3','5.2','hi','7']\n",
    "nums=[]\n",
    "for v in values:\n",
    "    try:\n",
    "        nums.append(float(v))\n",
    "    except ValueError:\n",
    "        pass\n",
    "print(nums)\n",
    "```\n",
    "</details>"
   ]
  },
  {
   "cell_type": "markdown",
   "id": "b7915e8e",
   "metadata": {},
   "source": [
    "## 3. Immutability vs mutability (concept)"
   ]
  },
  {
   "cell_type": "code",
   "execution_count": 9,
   "id": "bc893ab5",
   "metadata": {},
   "outputs": [
    {
     "name": "stdout",
     "output_type": "stream",
     "text": [
      "ints: 11 10\n",
      "lists: [1, 2, 3] [1, 2, 3]\n"
     ]
    }
   ],
   "source": [
    "a = 10\n",
    "b = a\n",
    "a = 11\n",
    "print(\"ints:\", a, b)\n",
    "L = [1,2]\n",
    "M = L\n",
    "L.append(3)\n",
    "print(\"lists:\", L, M)"
   ]
  },
  {
   "cell_type": "markdown",
   "id": "60aa67e3",
   "metadata": {},
   "source": [
    "### Exercise B3 — Swap (easy)\n",
    "Swap two variables using tuple unpacking."
   ]
  },
  {
   "cell_type": "code",
   "execution_count": 12,
   "id": "a4629edc",
   "metadata": {},
   "outputs": [
    {
     "name": "stdout",
     "output_type": "stream",
     "text": [
      "Swapped ints:  11 10 \n",
      "\n",
      "Swapped lists:  [3, 4] [1, 2]\n"
     ]
    }
   ],
   "source": [
    "# Your turn\n",
    "a = 10 # input for single entry\n",
    "b = 11\n",
    "\n",
    "a,b = b, a #swap a and b with tuple unpacking\n",
    "print(\"Swapped ints: \", a, b, \"\\n\")\n",
    "\n",
    "L = [1, 2]# input for single entry\n",
    "M = [3, 4]\n",
    "\n",
    "L,M = M,L #swap lists with tuple unpacking\n",
    "print(\"Swapped lists: \", L, M)"
   ]
  },
  {
   "cell_type": "markdown",
   "id": "d165fb6f",
   "metadata": {},
   "source": [
    "<details>\n",
    "<summary><b>Solution</b></summary>\n",
    "\n",
    "```python\n",
    "a,b=1,2\n",
    "a,b=b,a\n",
    "print(a,b)\n",
    "```\n",
    "</details>"
   ]
  }
 ],
 "metadata": {
  "kernelspec": {
   "display_name": "Kres Jpyt AI_tech (Py3_13)",
   "language": "python",
   "name": "qrs_jupyter_work_env"
  },
  "language_info": {
   "codemirror_mode": {
    "name": "ipython",
    "version": 3
   },
   "file_extension": ".py",
   "mimetype": "text/x-python",
   "name": "python",
   "nbconvert_exporter": "python",
   "pygments_lexer": "ipython3",
   "version": "3.13.5"
  },
  "toc": {
   "base_numbering": 1,
   "nav_menu": {},
   "number_sections": false,
   "sideBar": true,
   "skip_h1_title": false,
   "title_cell": "Table of Contents",
   "title_sidebar": "Contents",
   "toc_cell": false,
   "toc_position": {},
   "toc_section_display": true,
   "toc_window_display": true
  }
 },
 "nbformat": 4,
 "nbformat_minor": 5
}
