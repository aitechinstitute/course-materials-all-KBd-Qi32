{
 "cells": [
  {
   "cell_type": "markdown",
   "id": "44f89912",
   "metadata": {},
   "source": [
    "# Week 00 Deep Dive — Strings"
   ]
  },
  {
   "cell_type": "markdown",
   "id": "d20788f3",
   "metadata": {},
   "source": [
    "Slicing, methods, formatting, and common patterns."
   ]
  },
  {
   "cell_type": "markdown",
   "id": "a67a2e57",
   "metadata": {},
   "source": [
    "## 1. Methods & formatting"
   ]
  },
  {
   "cell_type": "code",
   "execution_count": 1,
   "id": "6453d2da",
   "metadata": {},
   "outputs": [
    {
     "name": "stdout",
     "output_type": "stream",
     "text": [
      "data science\n",
      "AI | DS | ML\n",
      "Hello Amir\n"
     ]
    }
   ],
   "source": [
    "s=\"  Data Science  \"\n",
    "print(s.strip().lower())\n",
    "print(\" | \".join([\"AI\",\"DS\",\"ML\"]))\n",
    "name=\"Amir\"; print(f\"Hello {name}\")"
   ]
  },
  {
   "cell_type": "markdown",
   "id": "5096b7d1",
   "metadata": {},
   "source": [
    "### Exercise C1 — Snake case (easy)\n",
    "Normalize names to snake_case."
   ]
  },
  {
   "cell_type": "code",
   "execution_count": 5,
   "id": "819c8585",
   "metadata": {},
   "outputs": [
    {
     "name": "stdout",
     "output_type": "stream",
     "text": [
      "snake_case\n"
     ]
    }
   ],
   "source": [
    "# Your turn\n",
    "inp = \"Snake case\"\n",
    "words = inp.strip().lower().split()\n",
    "print(\"_\".join(words))"
   ]
  },
  {
   "cell_type": "markdown",
   "id": "8e68e64e",
   "metadata": {},
   "source": [
    "<details>\n",
    "<summary><b>Solution</b></summary>\n",
    "\n",
    "```python\n",
    "raw=\"  Hello World  \"\n",
    "clean=raw.strip().lower().replace(\" \",\"_\")\n",
    "print(clean)\n",
    "```\n",
    "</details>"
   ]
  },
  {
   "cell_type": "markdown",
   "id": "8e194859",
   "metadata": {},
   "source": [
    "## 2. Slicing & searching"
   ]
  },
  {
   "cell_type": "code",
   "execution_count": 1,
   "id": "74adfdcc",
   "metadata": {},
   "outputs": [
    {
     "name": "stdout",
     "output_type": "stream",
     "text": [
      "data nce dtsine True\n"
     ]
    }
   ],
   "source": [
    "t=\"datascience\"\n",
    "print(t[:4], t[-3:], t[::2], \"sci\" in t)"
   ]
  },
  {
   "cell_type": "markdown",
   "id": "7f3ebed3",
   "metadata": {},
   "source": [
    "### Exercise C2 — Redact emails (medium)\n",
    "Given `'sam@example.com'`, print `'s***@example.com'`."
   ]
  },
  {
   "cell_type": "code",
   "execution_count": 6,
   "id": "e6d84cbd",
   "metadata": {},
   "outputs": [
    {
     "name": "stdin",
     "output_type": "stream",
     "text": [
      "Please enter your email:  ahmado.kasuyoshi@publicmail.com\n"
     ]
    },
    {
     "name": "stdout",
     "output_type": "stream",
     "text": [
      "a***************@publicmail.com\n"
     ]
    }
   ],
   "source": [
    "# Your turn\n",
    "inp = input(\"Please enter your email: \") # example given \"sam@example.com\"\n",
    "email = inp.split(\"@\") # splitting the username from the domain with @ separator\n",
    "user = email[0]\n",
    "domain = email[1]\n",
    "\n",
    "redact_user = user[0]+ \"*\" * (len(user)-1) # masking the username bar the first letter\n",
    "redact_email = redact_user+ \"@\" + domain # joining the redacted username and domain again\n",
    "\n",
    "print(redact_email)"
   ]
  },
  {
   "cell_type": "markdown",
   "id": "f77468e9",
   "metadata": {},
   "source": [
    "<details>\n",
    "<summary><b>Solution</b></summary>\n",
    "\n",
    "```python\n",
    "email=\"sam@example.com\"\n",
    "local,domain=email.split(\"@\")\n",
    "red = local[0] + \"*\"*(len(local)-1)\n",
    "print(f\"{red}@{domain}\")\n",
    "```\n",
    "</details>"
   ]
  },
  {
   "cell_type": "markdown",
   "id": "5ca279b5",
   "metadata": {},
   "source": [
    "### Exercise C3 — Title case with exceptions (hard)\n",
    "Title-case a sentence but keep small words (`and, or, the, of`) lowercase."
   ]
  },
  {
   "cell_type": "code",
   "execution_count": 16,
   "id": "94774de0",
   "metadata": {},
   "outputs": [
    {
     "name": "stdin",
     "output_type": "stream",
     "text": [
      "Please input a sentence:\n",
      " the big fox Of An alluvial woods was roaming to hunt a prey\n"
     ]
    },
    {
     "name": "stdout",
     "output_type": "stream",
     "text": [
      "The Big Fox of an Alluvial Woods Was Roaming To Hunt a Prey\n"
     ]
    }
   ],
   "source": [
    "# Your turn\n",
    "inp = input(\"Please input a sentence:\\n\")\n",
    "title = inp.strip().split() # splitting the input sentence into each words\n",
    "small_words = {\"and\", \"or\", \"the\", \"of\", \"for\", \"a\", \"an\", \"in\"} # identifying the small words\n",
    "title_word = [] # container for the formatted title sentence\n",
    "first_word = True\n",
    "\n",
    "for word in title:\n",
    "    if first_word: # only a signal to always capitalize the first word\n",
    "        title_word.append(word.capitalize())\n",
    "        first_word = False # word after the first one will always bypass this condition\n",
    "    elif word.lower() not in small_words: # differentiate the words not in small words list\n",
    "        title_word.append(word.capitalize())\n",
    "    else: # small words going to be always lower-cased\n",
    "        title_word.append(word.lower())\n",
    "\n",
    "result = \" \".join(title_word) # re-combine the words into a sentence again\n",
    "print(result)"
   ]
  },
  {
   "cell_type": "markdown",
   "id": "e7f158ad",
   "metadata": {},
   "source": [
    "<details>\n",
    "<summary><b>Solution</b></summary>\n",
    "\n",
    "```python\n",
    "s=\"the lord of the rings and the hobbit\"\n",
    "small={\"and\",\"or\",\"the\",\"of\"}\n",
    "words=s.split()\n",
    "cap=[w if w in small else w.capitalize() for w in words]\n",
    "cap[0]=cap[0].capitalize()\n",
    "print(\" \".join(cap))\n",
    "```\n",
    "</details>"
   ]
  }
 ],
 "metadata": {
  "kernelspec": {
   "display_name": "Kres Jpyt AI_tech (Py3_13)",
   "language": "python",
   "name": "qrs_jupyter_work_env"
  },
  "language_info": {
   "codemirror_mode": {
    "name": "ipython",
    "version": 3
   },
   "file_extension": ".py",
   "mimetype": "text/x-python",
   "name": "python",
   "nbconvert_exporter": "python",
   "pygments_lexer": "ipython3",
   "version": "3.13.5"
  },
  "toc": {
   "base_numbering": 1,
   "nav_menu": {},
   "number_sections": false,
   "sideBar": true,
   "skip_h1_title": false,
   "title_cell": "Table of Contents",
   "title_sidebar": "Contents",
   "toc_cell": false,
   "toc_position": {},
   "toc_section_display": true,
   "toc_window_display": true
  }
 },
 "nbformat": 4,
 "nbformat_minor": 5
}
