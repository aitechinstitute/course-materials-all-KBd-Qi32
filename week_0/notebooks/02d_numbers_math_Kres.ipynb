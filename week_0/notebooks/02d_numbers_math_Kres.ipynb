{
 "cells": [
  {
   "cell_type": "markdown",
   "id": "05d98015",
   "metadata": {},
   "source": [
    "# Week 00 Deep Dive — Numbers & Math"
   ]
  },
  {
   "cell_type": "markdown",
   "id": "c320d451",
   "metadata": {},
   "source": [
    "Operators, rounding, randomness, and small numeric patterns."
   ]
  },
  {
   "cell_type": "markdown",
   "id": "622b8f23",
   "metadata": {},
   "source": [
    "## 1. Operators & precedence"
   ]
  },
  {
   "cell_type": "code",
   "execution_count": 1,
   "id": "37c8becd",
   "metadata": {},
   "outputs": [
    {
     "name": "stdout",
     "output_type": "stream",
     "text": [
      "14 20 2 1 1024\n"
     ]
    }
   ],
   "source": [
    "print(2+3*4, (2+3)*4, 7//3, 7%3, 2**10)"
   ]
  },
  {
   "cell_type": "markdown",
   "id": "87e852e9",
   "metadata": {},
   "source": [
    "### Exercise D1 — Tip splitter (easy)\n",
    "Compute each person's share with a tip percentage."
   ]
  },
  {
   "cell_type": "code",
   "execution_count": 2,
   "id": "46ab8791",
   "metadata": {},
   "outputs": [
    {
     "name": "stdin",
     "output_type": "stream",
     "text": [
      "Enter the bill amount: $ 60\n",
      "What percentage tip would you like to give (e.g., 15)?  10\n",
      "How many people are splitting the bill?  3\n"
     ]
    },
    {
     "name": "stdout",
     "output_type": "stream",
     "text": [
      "\n",
      "Each person should pay: $22.00\n"
     ]
    }
   ],
   "source": [
    "# Your turn\n",
    "'''To finish this, \n",
    "    I use AI Chat for some parts of it, \n",
    "    the logic syntax structure coming from my own \n",
    "    - Kres'''\n",
    "try:\n",
    "    bill_amount = float(input(\"Enter the bill amount: $\"))\n",
    "    tip_percentage = int(input(\"What percentage tip would you like to give (e.g., 15)? \"))\n",
    "    num_people = int(input(\"How many people are splitting the bill? \"))\n",
    "    \n",
    "    if num_people <= 0:\n",
    "        print(\"Error: The number of people must be greater than zero.\")\n",
    "    else:\n",
    "        # Calculate the tip amount based on the percentage\n",
    "        tip_amount = bill_amount * (tip_percentage / 100)\n",
    "        \n",
    "        # Calculate the total bill with tip\n",
    "        total_bill = bill_amount + tip_amount\n",
    "        \n",
    "        # Calculate the shared amount\n",
    "        shared_amount = total_bill / num_people\n",
    "        \n",
    "        print(f\"\\nEach person should pay: ${shared_amount:.2f}\")\n",
    "\n",
    "except ValueError:\n",
    "    print(\"Invalid input. Please enter numbers for the bill amount, tip, and people.\")"
   ]
  },
  {
   "cell_type": "markdown",
   "id": "28abae84",
   "metadata": {},
   "source": [
    "<details>\n",
    "<summary><b>Solution</b></summary>\n",
    "\n",
    "```python\n",
    "bill=50; tip=10; n=3\n",
    "total=bill*(1+tip/100)\n",
    "print(round(total/n,2))\n",
    "```\n",
    "</details>"
   ]
  },
  {
   "cell_type": "markdown",
   "id": "3c5d35cf",
   "metadata": {},
   "source": [
    "## 2. Rounding & formatting"
   ]
  },
  {
   "cell_type": "code",
   "execution_count": null,
   "id": "f652b6b3",
   "metadata": {},
   "outputs": [],
   "source": [
    "x=3.1415926\n",
    "print(round(x,3), f\"{x:.3f}\")"
   ]
  },
  {
   "cell_type": "markdown",
   "id": "ac06d5a1",
   "metadata": {},
   "source": [
    "### Exercise D2 — CAGR (medium)\n",
    "Given start=100, end=135, years=3, compute CAGR."
   ]
  },
  {
   "cell_type": "code",
   "execution_count": 2,
   "id": "ecae469f",
   "metadata": {},
   "outputs": [
    {
     "name": "stdout",
     "output_type": "stream",
     "text": [
      "10.521\n"
     ]
    }
   ],
   "source": [
    "# Your turn\n",
    "start = 100\n",
    "end = 135\n",
    "years = 3\n",
    "\n",
    "cagr = (((end/start) ** (1/years)) - 1) * 100\n",
    "\n",
    "print (f\"{cagr:.3f}\")"
   ]
  },
  {
   "cell_type": "markdown",
   "id": "841fcc94",
   "metadata": {},
   "source": [
    "<details>\n",
    "<summary><b>Solution</b></summary>\n",
    "\n",
    "```python\n",
    "start=100; end=135; years=3\n",
    "cagr=(end/start)**(1/years)-1\n",
    "print(round(cagr,4))\n",
    "```\n",
    "</details>"
   ]
  },
  {
   "cell_type": "markdown",
   "id": "88c3666d",
   "metadata": {},
   "source": [
    "### Exercise D3 — Random dice (hard)\n",
    "Simulate rolling two dice 10,000 times and estimate the probability of sum==7."
   ]
  },
  {
   "cell_type": "code",
   "execution_count": 3,
   "id": "407ada02",
   "metadata": {},
   "outputs": [
    {
     "name": "stdout",
     "output_type": "stream",
     "text": [
      "Number of times the sum was 7: 1649\n",
      "Estimated probability producing sum of 7: 0.165 \n"
     ]
    }
   ],
   "source": [
    "# Your turn\n",
    "import random\n",
    "\n",
    "simulate = 10000\n",
    "count = 0 # container for counter of dice producing sum of 7 \n",
    "\n",
    "for i in range(simulate): # variable for loop to run 10,000 times simulation \n",
    "    die1 = random.randint(1, 6) # placeholder for the first die\n",
    "    die2 = random.randint(1, 6) # placeholkder for the second die\n",
    "    if die1 + die2 == 7: # condition for sum of 7 to be counted\n",
    "        count += 1 #counting how many times dice have sum of 7\n",
    "\n",
    "probability = count/simulate # the probability estimation of dice having sum of 7\n",
    "\n",
    "print(f\"Number of times the sum was 7: {count}\")\n",
    "print(f\"Estimated probability producing sum of 7: {probability:.3f} \")"
   ]
  },
  {
   "cell_type": "markdown",
   "id": "433c38cb",
   "metadata": {},
   "source": [
    "<details>\n",
    "<summary><b>Solution</b></summary>\n",
    "\n",
    "```python\n",
    "import random\n",
    "n=10000\n",
    "hits=0\n",
    "for _ in range(n):\n",
    "    s = random.randint(1,6)+random.randint(1,6)\n",
    "    if s==7: hits+=1\n",
    "print(hits/n)\n",
    "```\n",
    "</details>"
   ]
  }
 ],
 "metadata": {
  "kernelspec": {
   "display_name": "Kres Jpyt AI_tech (Py3_13)",
   "language": "python",
   "name": "qrs_jupyter_work_env"
  },
  "language_info": {
   "codemirror_mode": {
    "name": "ipython",
    "version": 3
   },
   "file_extension": ".py",
   "mimetype": "text/x-python",
   "name": "python",
   "nbconvert_exporter": "python",
   "pygments_lexer": "ipython3",
   "version": "3.13.5"
  },
  "toc": {
   "base_numbering": 1,
   "nav_menu": {},
   "number_sections": false,
   "sideBar": true,
   "skip_h1_title": false,
   "title_cell": "Table of Contents",
   "title_sidebar": "Contents",
   "toc_cell": false,
   "toc_position": {},
   "toc_section_display": true,
   "toc_window_display": true
  }
 },
 "nbformat": 4,
 "nbformat_minor": 5
}
