{
 "cells": [
  {
   "cell_type": "markdown",
   "id": "416387dd",
   "metadata": {},
   "source": [
    "# Week 00 Deep Dive — Booleans & Comparisons"
   ]
  },
  {
   "cell_type": "markdown",
   "id": "c7e2b54a",
   "metadata": {},
   "source": [
    "Truthiness, logical operators, and common guard clauses."
   ]
  },
  {
   "cell_type": "markdown",
   "id": "477c4e5c",
   "metadata": {},
   "source": [
    "## 1. Truthiness"
   ]
  },
  {
   "cell_type": "code",
   "execution_count": null,
   "id": "58ecd923",
   "metadata": {},
   "outputs": [],
   "source": [
    "for v in [0,1,[],[1], \"\", \"hi\", None]:\n",
    "    if v:\n",
    "        print(v, \"is truthy\")\n",
    "    else:\n",
    "        print(v, \"is falsy\")"
   ]
  },
  {
   "cell_type": "markdown",
   "id": "3cf7f6c7",
   "metadata": {},
   "source": [
    "### Exercise E1 — Gatekeeper (easy)\n",
    "If password is `'opensesame'` print ✅ else ❌"
   ]
  },
  {
   "cell_type": "code",
   "execution_count": 1,
   "id": "c9465d94",
   "metadata": {},
   "outputs": [
    {
     "name": "stdin",
     "output_type": "stream",
     "text": [
      "Please enter the password:\n",
      " OpenAI\n"
     ]
    },
    {
     "name": "stdout",
     "output_type": "stream",
     "text": [
      "Sorry, wrong password ❌\n"
     ]
    }
   ],
   "source": [
    "# Your turn\n",
    "pswd = input(\"Please enter the password:\\n\")\n",
    "\n",
    "if pswd == \"opensesame\":\n",
    "    print(\"The password is correct ✅\")\n",
    "else:\n",
    "    print(\"Sorry, wrong password ❌\")"
   ]
  },
  {
   "cell_type": "markdown",
   "id": "1add8661",
   "metadata": {},
   "source": [
    "<details>\n",
    "<summary><b>Solution</b></summary>\n",
    "\n",
    "```python\n",
    "pwd=\"opensesame\"\n",
    "print(\"✅\" if pwd==\"opensesame\" else \"❌\")\n",
    "```\n",
    "</details>"
   ]
  },
  {
   "cell_type": "markdown",
   "id": "eec8c3de",
   "metadata": {},
   "source": [
    "### Exercise E2 — Range check (medium)\n",
    "Ask for a score 0..100, classify A/B/C/D/F."
   ]
  },
  {
   "cell_type": "code",
   "execution_count": 5,
   "id": "e07cbd9f",
   "metadata": {},
   "outputs": [
    {
     "name": "stdin",
     "output_type": "stream",
     "text": [
      "Enter your final score:  78\n"
     ]
    },
    {
     "name": "stdout",
     "output_type": "stream",
     "text": [
      "Your final grade is B\n"
     ]
    }
   ],
   "source": [
    "# Your turn\n",
    "try:\n",
    "    score = int(input(\"Enter your final score: \"))\n",
    "\n",
    "    if score > 100 or score < 0: # to check if input scvore between 0 and 100\n",
    "        print(\"Invalid score. Please enter a number between 0 and 100.\")\n",
    "    #the start of the grading classification\n",
    "    elif score >= 90:\n",
    "        print(\"Your final grade is A\")\n",
    "    elif score >= 75:\n",
    "        print(\"Your final grade is B\")\n",
    "    elif score >= 65:\n",
    "        print(\"Your final grade is C\")\n",
    "    elif score >= 55:\n",
    "        print(\"Your final grade is D\")\n",
    "    else:\n",
    "        print(\"Your final grade is F\")\n",
    "\n",
    "except ValueError: # warning for input other than whole numbers\n",
    "    print(\"Invalid input. Please enter a whole number.\")"
   ]
  },
  {
   "cell_type": "markdown",
   "id": "a5a95f85",
   "metadata": {},
   "source": [
    "<details>\n",
    "<summary><b>Solution</b></summary>\n",
    "\n",
    "```python\n",
    "score=87\n",
    "if score>=85: g=\"A\"\n",
    "elif score>=75: g=\"B\"\n",
    "elif score>=65: g=\"C\"\n",
    "elif score>=50: g=\"D\"\n",
    "else: g=\"F\"\n",
    "print(g)\n",
    "```\n",
    "</details>"
   ]
  },
  {
   "cell_type": "markdown",
   "id": "f19e3bb5",
   "metadata": {},
   "source": [
    "### Exercise E3 — Complex condition (hard)\n",
    "Given `age`, `has_id`, `with_parent`, determine if entry allowed."
   ]
  },
  {
   "cell_type": "code",
   "execution_count": 1,
   "id": "e4b0860c",
   "metadata": {},
   "outputs": [
    {
     "name": "stdin",
     "output_type": "stream",
     "text": [
      "Enter your age:  23\n",
      "Do you bring your ID (Yes or No):  NO\n",
      "are you with parent (Yes or No):  yes\n"
     ]
    },
    {
     "name": "stdout",
     "output_type": "stream",
     "text": [
      "You are allowed to enter\n"
     ]
    }
   ],
   "source": [
    "# Your turn\n",
    "age = int(input(\"Enter your age: \"))\n",
    "has_id = input (\"Do you bring your ID (Yes or No): \")\n",
    "with_parent = input(\"are you with parent (Yes or No): \")\n",
    "\n",
    "id_str = has_id.lower() == \"yes\" # turning the id into boolean True\n",
    "parent_str = with_parent.lower() == \"yes\" # turnig the with parents into boolean True\n",
    "\n",
    "if (age >= 18 and id_str) or (age >= 18 and parent_str) or (age < 18 and parent_str): #the conditions for entering \n",
    "    print(\"You are allowed to enter\")\n",
    "else:\n",
    "    print(\"Sorry, you can't come in\")\n"
   ]
  },
  {
   "cell_type": "markdown",
   "id": "5d4cd759",
   "metadata": {},
   "source": [
    "<details>\n",
    "<summary><b>Solution</b></summary>\n",
    "\n",
    "```python\n",
    "age=16; has_id=False; with_parent=True\n",
    "allowed = (age>=18 and has_id) or (with_parent and age>=15)\n",
    "print(allowed)\n",
    "```\n",
    "</details>"
   ]
  }
 ],
 "metadata": {
  "kernelspec": {
   "display_name": "Kres Jpyt AI_tech (Py3_13)",
   "language": "python",
   "name": "qrs_jupyter_work_env"
  },
  "language_info": {
   "codemirror_mode": {
    "name": "ipython",
    "version": 3
   },
   "file_extension": ".py",
   "mimetype": "text/x-python",
   "name": "python",
   "nbconvert_exporter": "python",
   "pygments_lexer": "ipython3",
   "version": "3.13.5"
  },
  "toc": {
   "base_numbering": 1,
   "nav_menu": {},
   "number_sections": false,
   "sideBar": true,
   "skip_h1_title": false,
   "title_cell": "Table of Contents",
   "title_sidebar": "Contents",
   "toc_cell": false,
   "toc_position": {},
   "toc_section_display": true,
   "toc_window_display": true
  }
 },
 "nbformat": 4,
 "nbformat_minor": 5
}
