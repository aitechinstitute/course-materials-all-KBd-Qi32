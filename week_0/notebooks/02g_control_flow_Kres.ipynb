{
 "cells": [
  {
   "cell_type": "markdown",
   "id": "b8107709",
   "metadata": {},
   "source": [
    "# Week 00 Deep Dive — Control Flow"
   ]
  },
  {
   "cell_type": "markdown",
   "id": "b98fa1f4",
   "metadata": {},
   "source": [
    "If/elif/else, for/while, range — robust patterns."
   ]
  },
  {
   "cell_type": "markdown",
   "id": "978bd5ff",
   "metadata": {},
   "source": [
    "## 1. For + range"
   ]
  },
  {
   "cell_type": "code",
   "execution_count": 1,
   "id": "35641107",
   "metadata": {},
   "outputs": [
    {
     "name": "stdout",
     "output_type": "stream",
     "text": [
      "1 🎯\n",
      "2 🎯\n",
      "3 🎯\n",
      "4 🎯\n",
      "5 🎯\n"
     ]
    }
   ],
   "source": [
    "for i in range(1,6): print(i, \"🎯\")"
   ]
  },
  {
   "cell_type": "markdown",
   "id": "383c6399",
   "metadata": {},
   "source": [
    "### Exercise G1 — FizzBuzz+ (easy→medium)\n",
    "Extend to include multiples of 7 → 'AI'."
   ]
  },
  {
   "cell_type": "code",
   "execution_count": 4,
   "id": "3d902f58",
   "metadata": {},
   "outputs": [
    {
     "name": "stdout",
     "output_type": "stream",
     "text": [
      "1\n",
      "2\n",
      "Fizz\n",
      "4\n",
      "Buzz\n",
      "Fizz\n",
      "AI\n",
      "8\n",
      "Fizz\n",
      "Buzz\n",
      "11\n",
      "Fizz\n",
      "13\n",
      "AI\n",
      "FizzBuzz\n",
      "16\n",
      "17\n",
      "Fizz\n",
      "19\n",
      "Buzz\n",
      "FizzAI\n",
      "22\n",
      "23\n",
      "Fizz\n",
      "Buzz\n",
      "26\n",
      "Fizz\n",
      "AI\n",
      "29\n",
      "FizzBuzz\n",
      "31\n",
      "32\n",
      "Fizz\n",
      "34\n",
      "BuzzAI\n",
      "Fizz\n",
      "37\n",
      "38\n",
      "Fizz\n",
      "Buzz\n",
      "41\n",
      "FizzAI\n",
      "43\n",
      "44\n",
      "FizzBuzz\n",
      "46\n",
      "47\n",
      "Fizz\n",
      "AI\n",
      "Buzz\n",
      "Fizz\n",
      "52\n",
      "53\n",
      "Fizz\n",
      "Buzz\n",
      "AI\n",
      "Fizz\n",
      "58\n",
      "59\n",
      "FizzBuzz\n",
      "61\n",
      "62\n",
      "FizzAI\n",
      "64\n",
      "Buzz\n",
      "Fizz\n",
      "67\n",
      "68\n",
      "Fizz\n",
      "BuzzAI\n",
      "71\n",
      "Fizz\n",
      "73\n",
      "74\n",
      "FizzBuzz\n",
      "76\n",
      "AI\n",
      "Fizz\n",
      "79\n",
      "Buzz\n",
      "Fizz\n",
      "82\n",
      "83\n",
      "FizzAI\n",
      "Buzz\n",
      "86\n",
      "Fizz\n",
      "88\n",
      "89\n",
      "FizzBuzz\n",
      "AI\n",
      "92\n",
      "Fizz\n",
      "94\n",
      "Buzz\n",
      "Fizz\n",
      "97\n",
      "AI\n",
      "Fizz\n",
      "Buzz\n"
     ]
    }
   ],
   "source": [
    "# Your turn\n",
    "for num in range(1, 101):\n",
    "    output = \"\"\n",
    "    if num % 3 == 0:\n",
    "        output += \"Fizz\"\n",
    "    if num % 5 == 0:\n",
    "        output += \"Buzz\"\n",
    "    if num % 7 == 0:\n",
    "        output += \"AI\"\n",
    "    if output == \"\":\n",
    "        print(num)\n",
    "    else:\n",
    "        print(output)"
   ]
  },
  {
   "cell_type": "markdown",
   "id": "a2cf583c",
   "metadata": {},
   "source": [
    "<details>\n",
    "<summary><b>Solution</b></summary>\n",
    "\n",
    "```python\n",
    "for n in range(1,31):\n",
    "    out=\"\"\n",
    "    if n%3==0: out+=\"Fizz\"\n",
    "    if n%5==0: out+=\"Buzz\"\n",
    "    if n%7==0: out+=\"AI\"\n",
    "    print(out or n)\n",
    "```\n",
    "</details>"
   ]
  },
  {
   "cell_type": "markdown",
   "id": "715ca040",
   "metadata": {},
   "source": [
    "## 2. While & breaks"
   ]
  },
  {
   "cell_type": "code",
   "execution_count": 5,
   "id": "c4fe65a4",
   "metadata": {},
   "outputs": [
    {
     "name": "stdout",
     "output_type": "stream",
     "text": [
      "5\n",
      "4\n",
      "3\n",
      "2\n",
      "1\n",
      "Go!\n"
     ]
    }
   ],
   "source": [
    "n=5\n",
    "while n>0:\n",
    "    print(n)\n",
    "    n-=1\n",
    "print(\"Go!\")"
   ]
  },
  {
   "cell_type": "markdown",
   "id": "7dfcf249",
   "metadata": {},
   "source": [
    "### Exercise G2 — Number guessing (medium)\n",
    "Loop until correct, give higher/lower hints, count attempts."
   ]
  },
  {
   "cell_type": "code",
   "execution_count": 9,
   "id": "b1d8918d",
   "metadata": {},
   "outputs": [
    {
     "name": "stdout",
     "output_type": "stream",
     "text": [
      "Guess the number between 1 and 100.\n"
     ]
    },
    {
     "name": "stdin",
     "output_type": "stream",
     "text": [
      "Enter your guess:  50\n"
     ]
    },
    {
     "name": "stdout",
     "output_type": "stream",
     "text": [
      "The target number is lower. Guess again.\n"
     ]
    },
    {
     "name": "stdin",
     "output_type": "stream",
     "text": [
      "Enter your guess:  10\n"
     ]
    },
    {
     "name": "stdout",
     "output_type": "stream",
     "text": [
      "The target number is higher. Guess again.\n"
     ]
    },
    {
     "name": "stdin",
     "output_type": "stream",
     "text": [
      "Enter your guess:  25\n"
     ]
    },
    {
     "name": "stdout",
     "output_type": "stream",
     "text": [
      "The target number is higher. Guess again.\n"
     ]
    },
    {
     "name": "stdin",
     "output_type": "stream",
     "text": [
      "Enter your guess:  35\n"
     ]
    },
    {
     "name": "stdout",
     "output_type": "stream",
     "text": [
      "The target number is higher. Guess again.\n"
     ]
    },
    {
     "name": "stdin",
     "output_type": "stream",
     "text": [
      "Enter your guess:  45\n"
     ]
    },
    {
     "name": "stdout",
     "output_type": "stream",
     "text": [
      "The target number is lower. Guess again.\n"
     ]
    },
    {
     "name": "stdin",
     "output_type": "stream",
     "text": [
      "Enter your guess:  40\n"
     ]
    },
    {
     "name": "stdout",
     "output_type": "stream",
     "text": [
      "The target number is higher. Guess again.\n"
     ]
    },
    {
     "name": "stdin",
     "output_type": "stream",
     "text": [
      "Enter your guess:  43\n"
     ]
    },
    {
     "name": "stdout",
     "output_type": "stream",
     "text": [
      "The target number is lower. Guess again.\n"
     ]
    },
    {
     "name": "stdin",
     "output_type": "stream",
     "text": [
      "Enter your guess:  42\n"
     ]
    },
    {
     "name": "stdout",
     "output_type": "stream",
     "text": [
      "You have guessed correctly in 8 attempts. Congrats!!\n"
     ]
    }
   ],
   "source": [
    "# Your turn\n",
    "import random\n",
    "# for this exercise the random secret number is between 1 and 100 for instance\n",
    "target_num = random.randint(1, 100)\n",
    "count = 0\n",
    "guess = None  #container for value that the user inputing\n",
    "\n",
    "print(\"Guess the number between 1 and 100.\") # so the user know which range of number to input\n",
    "while guess != target_num:\n",
    "    try:\n",
    "        guess = int(input(\"Enter your guess: \")) \n",
    "        count += 1\n",
    "        if guess > target_num: # when the number inputed is higher than the target number\n",
    "            print(\"The target number is lower. Guess again.\")\n",
    "        elif guess < target_num: # when the number inputed is lower than the target number\n",
    "            print(\"The target number is higher. Guess again.\")\n",
    "        else: # when the number inputed is the correct number\n",
    "            print(f\"You have guessed correctly in {count} attempts. Congrats!!\")\n",
    "    except ValueError:\n",
    "        print(\"Invalid input. Please enter a whole number.\")"
   ]
  },
  {
   "cell_type": "markdown",
   "id": "e5687c7d",
   "metadata": {},
   "source": [
    "<details>\n",
    "<summary><b>Solution</b></summary>\n",
    "\n",
    "```python\n",
    "secret=7\n",
    "tries=0\n",
    "guess=7\n",
    "while True:\n",
    "    tries+=1\n",
    "    if guess==secret:\n",
    "        print(f\"Correct in {tries}\"); break\n",
    "    print(\"higher\" if guess<secret else \"lower\")\n",
    "```\n",
    "</details>"
   ]
  },
  {
   "cell_type": "markdown",
   "id": "c9f5d2ad",
   "metadata": {},
   "source": [
    "### Exercise G3 — Menu loop (hard)\n",
    "Build a CLI menu: 1) add item, 2) list items, 3) quit."
   ]
  },
  {
   "cell_type": "code",
   "execution_count": 1,
   "id": "8d931d0e",
   "metadata": {},
   "outputs": [
    {
     "name": "stdout",
     "output_type": "stream",
     "text": [
      "\n",
      "--- CLI Menu ---\n",
      "1) Add an item\n",
      "2) List all items\n",
      "3) Quit\n"
     ]
    },
    {
     "name": "stdin",
     "output_type": "stream",
     "text": [
      "Enter your choice (1-3):  1\n",
      "Enter the item to add:  hair-dryer\n"
     ]
    },
    {
     "name": "stdout",
     "output_type": "stream",
     "text": [
      "'hair-dryer' has been added.\n",
      "\n",
      "--- CLI Menu ---\n",
      "1) Add an item\n",
      "2) List all items\n",
      "3) Quit\n"
     ]
    },
    {
     "name": "stdin",
     "output_type": "stream",
     "text": [
      "Enter your choice (1-3):  1\n",
      "Enter the item to add:  electric toothbrush\n"
     ]
    },
    {
     "name": "stdout",
     "output_type": "stream",
     "text": [
      "'electric toothbrush' has been added.\n",
      "\n",
      "--- CLI Menu ---\n",
      "1) Add an item\n",
      "2) List all items\n",
      "3) Quit\n"
     ]
    },
    {
     "name": "stdin",
     "output_type": "stream",
     "text": [
      "Enter your choice (1-3):  2\n"
     ]
    },
    {
     "name": "stdout",
     "output_type": "stream",
     "text": [
      "\n",
      "--- Your Items ---\n",
      "- hair-dryer\n",
      "- electric toothbrush\n",
      "\n",
      "--- CLI Menu ---\n",
      "1) Add an item\n",
      "2) List all items\n",
      "3) Quit\n"
     ]
    },
    {
     "name": "stdin",
     "output_type": "stream",
     "text": [
      "Enter your choice (1-3):  1\n",
      "Enter the item to add:  hand towels\n"
     ]
    },
    {
     "name": "stdout",
     "output_type": "stream",
     "text": [
      "'hand towels' has been added.\n",
      "\n",
      "--- CLI Menu ---\n",
      "1) Add an item\n",
      "2) List all items\n",
      "3) Quit\n"
     ]
    },
    {
     "name": "stdin",
     "output_type": "stream",
     "text": [
      "Enter your choice (1-3):  2\n"
     ]
    },
    {
     "name": "stdout",
     "output_type": "stream",
     "text": [
      "\n",
      "--- Your Items ---\n",
      "- hair-dryer\n",
      "- electric toothbrush\n",
      "- hand towels\n",
      "\n",
      "--- CLI Menu ---\n",
      "1) Add an item\n",
      "2) List all items\n",
      "3) Quit\n"
     ]
    },
    {
     "name": "stdin",
     "output_type": "stream",
     "text": [
      "Enter your choice (1-3):  3\n"
     ]
    },
    {
     "name": "stdout",
     "output_type": "stream",
     "text": [
      "Exiting the menu. Have a good day!\n"
     ]
    }
   ],
   "source": [
    "# Your turn\n",
    "my_items = [] # container list to store items\n",
    "\n",
    "while True:\n",
    "    try: # to display the options        \n",
    "        print(\"\\n--- CLI Menu ---\") \n",
    "        print(\"1) Add an item\")\n",
    "        print(\"2) List all items\")\n",
    "        print(\"3) Quit\")        \n",
    "        \n",
    "        choice = int(input(\"Enter your choice (1-3): \")) # user input based on the menu, user should input integer\n",
    "\n",
    "        if choice == 1:            \n",
    "            new_item = input(\"Enter the item to add: \") #for adding an item\n",
    "            my_items.append(new_item)\n",
    "            print(f\"'{new_item}' has been added.\")\n",
    "            \n",
    "        elif choice == 2:\n",
    "            if not my_items: # for listing items\n",
    "                print(\"The list is empty.\")\n",
    "            else:\n",
    "                print(\"\\n--- Your Items ---\")\n",
    "                for item in my_items:\n",
    "                    print(f\"- {item}\")\n",
    "        \n",
    "        elif choice == 3:            \n",
    "            print(\"Exiting the menu. Have a good day!\") # to quit the program\n",
    "            break\n",
    "            \n",
    "        else:\n",
    "            print(\"Invalid choice. Please enter 1, 2, or 3.\")\n",
    "            \n",
    "    except ValueError:\n",
    "        print(\"Invalid input. Please enter a number.\")"
   ]
  },
  {
   "cell_type": "markdown",
   "id": "c20531d1",
   "metadata": {},
   "source": [
    "<details>\n",
    "<summary><b>Solution</b></summary>\n",
    "\n",
    "```python\n",
    "items=[]\n",
    "# choice=\"1\"\n",
    "# while choice!=\"3\":\n",
    "#     if choice==\"1\": items.append(\"x\")\n",
    "#     elif choice==\"2\": print(items)\n",
    "#     choice=\"3\"\n",
    "print(items)\n",
    "```\n",
    "</details>"
   ]
  }
 ],
 "metadata": {
  "kernelspec": {
   "display_name": "Kres Jpyt AI_tech (Py3_13)",
   "language": "python",
   "name": "qrs_jupyter_work_env"
  },
  "language_info": {
   "codemirror_mode": {
    "name": "ipython",
    "version": 3
   },
   "file_extension": ".py",
   "mimetype": "text/x-python",
   "name": "python",
   "nbconvert_exporter": "python",
   "pygments_lexer": "ipython3",
   "version": "3.13.5"
  },
  "toc": {
   "base_numbering": 1,
   "nav_menu": {},
   "number_sections": false,
   "sideBar": true,
   "skip_h1_title": false,
   "title_cell": "Table of Contents",
   "title_sidebar": "Contents",
   "toc_cell": false,
   "toc_position": {},
   "toc_section_display": true,
   "toc_window_display": true
  }
 },
 "nbformat": 4,
 "nbformat_minor": 5
}
