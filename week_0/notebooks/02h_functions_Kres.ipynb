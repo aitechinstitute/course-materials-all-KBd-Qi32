{
 "cells": [
  {
   "cell_type": "markdown",
   "id": "8bf587f5",
   "metadata": {},
   "source": [
    "# Week 00 Deep Dive — Functions"
   ]
  },
  {
   "cell_type": "markdown",
   "id": "e2f09214",
   "metadata": {},
   "source": [
    "Parameters, defaults, returns, docstrings, and small design patterns."
   ]
  },
  {
   "cell_type": "markdown",
   "id": "3c5a41ba",
   "metadata": {},
   "source": [
    "## 1. Basics & defaults"
   ]
  },
  {
   "cell_type": "code",
   "execution_count": 1,
   "id": "272b1f01",
   "metadata": {},
   "outputs": [
    {
     "name": "stdout",
     "output_type": "stream",
     "text": [
      "Hello, world! Hello, Amir!\n"
     ]
    }
   ],
   "source": [
    "def greet(name=\"world\"): return f\"Hello, {name}!\"\n",
    "print(greet(), greet(\"Amir\"))"
   ]
  },
  {
   "cell_type": "markdown",
   "id": "f44f8abb",
   "metadata": {},
   "source": [
    "### Exercise H1 — km_to_miles (easy)\n",
    "Add `precision` default=2 and return rounded value."
   ]
  },
  {
   "cell_type": "code",
   "execution_count": 1,
   "id": "40b9aab3",
   "metadata": {},
   "outputs": [
    {
     "name": "stdout",
     "output_type": "stream",
     "text": [
      "10 km is 6.21 miles.\n",
      "10 km is 6.2137 miles.\n"
     ]
    }
   ],
   "source": [
    "# Your turn\n",
    "'''I have utilized AI chat in some part for this one \n",
    "as in the notebook 2a has similar km to mi conversion,\n",
    "however, the adendum making me a bit confused with the instruction - Kres'''\n",
    "\n",
    "def km_to_miles(km, precision=2):\n",
    "    \"\"\"converts kilometers to miles with a default precision.\"\"\"\n",
    "    conv_ratio = 0.62137\n",
    "    miles = km * conv_ratio\n",
    "    return round(miles, precision) # Round the value to the specified precision before returning\n",
    "\n",
    "# Call the function using the default precision (2)\n",
    "distance_in_miles = km_to_miles(10)\n",
    "print(f\"10 km is {distance_in_miles} miles.\")\n",
    "\n",
    "# Call the function with a different precision\n",
    "distance_with_precision = km_to_miles(10, precision=4)\n",
    "print(f\"10 km is {distance_with_precision} miles.\")"
   ]
  },
  {
   "cell_type": "markdown",
   "id": "e4427d3a",
   "metadata": {},
   "source": [
    "<details>\n",
    "<summary><b>Solution</b></summary>\n",
    "\n",
    "```python\n",
    "def km_to_miles(km, precision=2):\n",
    "    return round(km*0.621371, precision)\n",
    "print(km_to_miles(5))\n",
    "```\n",
    "</details>"
   ]
  },
  {
   "cell_type": "markdown",
   "id": "ab8c03cf",
   "metadata": {},
   "source": [
    "## 2. Multiple returns & type hints"
   ]
  },
  {
   "cell_type": "code",
   "execution_count": 1,
   "id": "dc2fdc40",
   "metadata": {},
   "outputs": [
    {
     "name": "stdout",
     "output_type": "stream",
     "text": [
      "{'min': 1, 'max': 3, 'mean': 2.0}\n"
     ]
    }
   ],
   "source": [
    "from typing import List, Dict\n",
    "\n",
    "def summary(xs: list) -> dict:\n",
    "    return {\"min\": min(xs), \"max\": max(xs), \"mean\": sum(xs)/len(xs)}\n",
    "print(summary([1,2,3]))"
   ]
  },
  {
   "cell_type": "markdown",
   "id": "363ea773",
   "metadata": {},
   "source": [
    "### Exercise H2 — Scoreboard (medium)\n",
    "Return `min`, `max`, `mean` (rounded) with empty-list guard."
   ]
  },
  {
   "cell_type": "code",
   "execution_count": 3,
   "id": "eb430830",
   "metadata": {},
   "outputs": [
    {
     "name": "stdout",
     "output_type": "stream",
     "text": [
      "Scores: [85, 92, 78, 95, 88]\n",
      "Min: 78, Max: 95, Mean: 87.6\n",
      "--------------------\n",
      "Error: The list is empty.\n",
      "The function handled the empty list\n"
     ]
    }
   ],
   "source": [
    "# Your turn\n",
    "''' I have utilized AI chat completely for this one \n",
    "because I don't understand - Kres ''' \n",
    "\n",
    "def get_scoreboard_stats(scores_list):\n",
    "       \n",
    "    # The empty-list guard\n",
    "    if not scores_list:\n",
    "        print(\"Error: The list is empty.\")\n",
    "        return None, None, None  # Return a tuple of None to indicate failure\n",
    "\n",
    "    # Calculate min, max, and sum\n",
    "    min_score = min(scores_list)\n",
    "    max_score = max(scores_list)\n",
    "    total_score = sum(scores_list)\n",
    "    num_scores = len(scores_list)\n",
    "    \n",
    "    # Compute the mean and round it\n",
    "    mean_score = round(total_score / num_scores, 2)\n",
    "\n",
    "    # Return all three values in a single tuple\n",
    "    return min_score, max_score, mean_score\n",
    "\n",
    "# Example with a populated list\n",
    "my_scores = [85, 92, 78, 95, 88]\n",
    "min_val, max_val, mean_val = get_scoreboard_stats(my_scores)\n",
    "\n",
    "if min_val is not None:\n",
    "    print(f\"Scores: {my_scores}\")\n",
    "    print(f\"Min: {min_val}, Max: {max_val}, Mean: {mean_val}\")\n",
    "    print(\"-\" * 20)\n",
    "\n",
    "# Example with an empty list to test the guard\n",
    "empty_scores = []\n",
    "min_val, max_val, mean_val = get_scoreboard_stats(empty_scores)\n",
    "\n",
    "if min_val is None:\n",
    "    print(\"The function handled the empty list\")"
   ]
  },
  {
   "cell_type": "markdown",
   "id": "bad84c82",
   "metadata": {},
   "source": [
    "<details>\n",
    "<summary><b>Solution</b></summary>\n",
    "\n",
    "```python\n",
    "def scoreboard(points):\n",
    "    if not points:\n",
    "        return {\"min\":None,\"max\":None,\"mean\":None}\n",
    "    return {\"min\":min(points), \"max\":max(points), \"mean\":round(sum(points)/len(points),2)}\n",
    "print(scoreboard([10,7,13,5]))\n",
    "```\n",
    "</details>"
   ]
  },
  {
   "cell_type": "markdown",
   "id": "3da50778",
   "metadata": {},
   "source": [
    "### Exercise H3 — Compose (hard)\n",
    "Write `compose(f, g)` so `compose(f,g)(x)` equals `f(g(x))`. Test with small functions."
   ]
  },
  {
   "cell_type": "code",
   "execution_count": 5,
   "id": "455d9d76",
   "metadata": {},
   "outputs": [
    {
     "name": "stdout",
     "output_type": "stream",
     "text": [
      "The result of composing the functions is: 25\n"
     ]
    }
   ],
   "source": [
    "# Your turn\n",
    "def compose(f, g):\n",
    "    '''\n",
    "    I  have utilized AI chat completely for this one \n",
    "because I don't understand - Kres '''\n",
    "    \n",
    "    def h(x):\n",
    "        # The inner function h calls g on x, then calls f on the result of g(x).\n",
    "        return f(g(x))\n",
    "    return h\n",
    "\n",
    "# --- Test with small functions ---\n",
    "\n",
    "# Function that adds 5 to a number\n",
    "def add_five(x):\n",
    "    return x + 5\n",
    "\n",
    "# Function that multiplies a number by 2\n",
    "def multiply_by_two(x):\n",
    "    return x * 2\n",
    "\n",
    "# Create the composed function\n",
    "# This returns a new function that does \"multiply by 2, then add 5\"\n",
    "add_five_after_multiply = compose(add_five, multiply_by_two)\n",
    "\n",
    "# Call the new composed function with an argument\n",
    "result = add_five_after_multiply(10)\n",
    "\n",
    "print(f\"The result of composing the functions is: {result}\")"
   ]
  },
  {
   "cell_type": "markdown",
   "id": "6aade26c",
   "metadata": {},
   "source": [
    "<details>\n",
    "<summary><b>Solution</b></summary>\n",
    "\n",
    "```python\n",
    "def compose(f,g):\n",
    "    return lambda x: f(g(x))\n",
    "inc=lambda x:x+1\n",
    "sq=lambda x:x*x\n",
    "h=compose(sq,inc)\n",
    "print(h(4))  # (4+1)^2 = 25\n",
    "```\n",
    "</details>"
   ]
  }
 ],
 "metadata": {
  "kernelspec": {
   "display_name": "Kres Jpyt AI_tech (Py3_13)",
   "language": "python",
   "name": "qrs_jupyter_work_env"
  },
  "language_info": {
   "codemirror_mode": {
    "name": "ipython",
    "version": 3
   },
   "file_extension": ".py",
   "mimetype": "text/x-python",
   "name": "python",
   "nbconvert_exporter": "python",
   "pygments_lexer": "ipython3",
   "version": "3.13.5"
  },
  "toc": {
   "base_numbering": 1,
   "nav_menu": {},
   "number_sections": false,
   "sideBar": true,
   "skip_h1_title": false,
   "title_cell": "Table of Contents",
   "title_sidebar": "Contents",
   "toc_cell": false,
   "toc_position": {},
   "toc_section_display": true,
   "toc_window_display": true
  }
 },
 "nbformat": 4,
 "nbformat_minor": 5
}
