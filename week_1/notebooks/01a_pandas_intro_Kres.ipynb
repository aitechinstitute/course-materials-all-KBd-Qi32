{
 "cells": [
  {
   "cell_type": "markdown",
   "id": "6e8287c6",
   "metadata": {},
   "source": [
    "# **AI TECH INSTITUTE** · *Intermediate AI & Data Science*\n",
    "### Week 01 · Notebook 01 — Introduction to Pandas & Series\n",
    "**Instructor:** Amir Charkhi  |  **Goal:** Master the transition from Python basics to Pandas data structures.\n",
    "\n",
    "> Format: short theory → quick practice → build understanding → mini-challenges.\n"
   ]
  },
  {
   "cell_type": "markdown",
   "id": "4a35e8bb",
   "metadata": {},
   "source": [
    "---\n",
    "## Learning Objectives\n",
    "- Understand why we need Pandas for data analysis\n",
    "- Master Series creation and manipulation\n",
    "- Connect Week 0 Python concepts to Pandas operations\n",
    "- Prepare for DataFrames"
   ]
  },
  {
   "cell_type": "markdown",
   "id": "ade0238f",
   "metadata": {},
   "source": [
    "## 1. Why Pandas? From Lists to Series\n",
    "Remember our Week 0 lists? Let's see why we need something more powerful."
   ]
  },
  {
   "cell_type": "code",
   "execution_count": 1,
   "id": "da6e4326",
   "metadata": {},
   "outputs": [
    {
     "name": "stdout",
     "output_type": "stream",
     "text": [
      "Average (Python list): 22.90°C\n",
      "Temps > 23: [23.1, 24.2]\n"
     ]
    }
   ],
   "source": [
    "# Week 0 way - calculating average temperature\n",
    "temps = [22.5, 23.1, 21.8, 24.2, 22.9]\n",
    "avg_temp = sum(temps) / len(temps)\n",
    "print(f\"Average (Python list): {avg_temp:.2f}°C\")\n",
    "\n",
    "# What if we want temps above 23?\n",
    "above_23 = [t for t in temps if t > 23]\n",
    "print(f\"Temps > 23: {above_23}\")"
   ]
  },
  {
   "cell_type": "code",
   "execution_count": 2,
   "id": "da398456-2e82-49bb-8937-64376bd79aba",
   "metadata": {},
   "outputs": [],
   "source": [
    "import pandas as pd\n",
    "import numpy as np"
   ]
  },
  {
   "cell_type": "code",
   "execution_count": 2,
   "id": "d0037003",
   "metadata": {},
   "outputs": [
    {
     "name": "stdout",
     "output_type": "stream",
     "text": [
      "Pandas Series:\n",
      "0    22.5\n",
      "1    23.1\n",
      "2    21.8\n",
      "3    24.2\n",
      "4    22.9\n",
      "dtype: float64\n",
      "\n",
      "Average (Pandas): 22.90°C\n",
      "\n",
      "Temps > 23:\n",
      "1    23.1\n",
      "3    24.2\n",
      "dtype: float64\n"
     ]
    }
   ],
   "source": [
    "# Week 1 way - with Pandas!\n",
    "# Create a Series (like a smart list with superpowers)\n",
    "temps_series = pd.Series([22.5, 23.1, 21.8, 24.2, 22.9])\n",
    "print(\"Pandas Series:\")\n",
    "print(temps_series)\n",
    "print(f\"\\nAverage (Pandas): {temps_series.mean():.2f}°C\")\n",
    "print(f\"\\nTemps > 23:\")\n",
    "print(temps_series[temps_series > 23])"
   ]
  },
  {
   "cell_type": "markdown",
   "id": "5b4f40a1",
   "metadata": {},
   "source": [
    "**Exercise 1 — Feel the Difference (easy)**  \n",
    "Create a Series of 5 student scores and find: mean, max, min, and scores above 80.\n"
   ]
  },
  {
   "cell_type": "code",
   "execution_count": 4,
   "id": "741c1c71",
   "metadata": {},
   "outputs": [
    {
     "name": "stdout",
     "output_type": "stream",
     "text": [
      "Score Series:\n",
      "0    87.3\n",
      "1    65.8\n",
      "2    75.6\n",
      "3    92.8\n",
      "4    72.4\n",
      "dtype: float64\n",
      "\n",
      "Highest (Score): 92.80\n",
      "\n",
      "Average (Score): 78.78\n",
      "\n",
      "Lowest (Score): 65.80\n",
      "\n",
      "Score > 80:\n",
      "0    87.3\n",
      "3    92.8\n",
      "dtype: float64\n"
     ]
    }
   ],
   "source": [
    "# Your turn\n",
    "score_series = pd.Series([87.3, 65.8, 75.6, 92.8, 72.4])\n",
    "print(\"Score Series:\")\n",
    "print(score_series)\n",
    "print(f\"\\nHighest (Score): {score_series.max():.2f}\")\n",
    "print(f\"\\nAverage (Score): {score_series.mean():.2f}\")\n",
    "print(f\"\\nLowest (Score): {score_series.min():.2f}\")\n",
    "print(f\"\\nScore > 80:\")\n",
    "print(score_series[score_series > 80])"
   ]
  },
  {
   "cell_type": "markdown",
   "id": "5265e60a",
   "metadata": {},
   "source": [
    "<details>\n",
    "<summary><b>Solution</b></summary>\n",
    "\n",
    "```python\n",
    "scores = pd.Series([75, 82, 91, 68, 87])\n",
    "print(f\"Mean: {scores.mean():.1f}\")\n",
    "print(f\"Max: {scores.max()}\")\n",
    "print(f\"Min: {scores.min()}\")\n",
    "print(\"\\nScores > 80:\")\n",
    "print(scores[scores > 80])\n",
    "```\n",
    "</details>"
   ]
  },
  {
   "cell_type": "markdown",
   "id": "582c78e3",
   "metadata": {},
   "source": [
    "## 2. Series with Index Labels\n",
    "Unlike lists, Series can have meaningful labels!"
   ]
  },
  {
   "cell_type": "code",
   "execution_count": null,
   "id": "dd91af14",
   "metadata": {},
   "outputs": [],
   "source": [
    "# Create a Series with custom index\n",
    "cities = ['Perth', 'Sydney', 'Melbourne', 'Brisbane', 'Adelaide']\n",
    "populations = [2.1, 5.3, 5.0, 2.6, 1.4]  # in millions\n",
    "\n",
    "pop_series = pd.Series(populations, index=cities, name='Population (M)')\n",
    "print(pop_series)\n",
    "print(f\"\\nPerth population: {pop_series['Perth']}M\")\n",
    "print(f\"\\nCities over 3M:\")\n",
    "print(pop_series[pop_series > 3])"
   ]
  },
  {
   "cell_type": "markdown",
   "id": "b93cc6d3",
   "metadata": {},
   "source": [
    "**Exercise 2 — Product Inventory (medium)**  \n",
    "Create a Series for product inventory: iPhone:45, iPad:32, MacBook:18, AirPods:67.\n",
    "Find products with stock < 40.\n"
   ]
  },
  {
   "cell_type": "code",
   "execution_count": 9,
   "id": "127850d0",
   "metadata": {},
   "outputs": [
    {
     "name": "stdout",
     "output_type": "stream",
     "text": [
      "\n",
      "Product inventory stock: \n",
      "iPhone     45\n",
      "iPad       32\n",
      "Macbook    18\n",
      "Airpods    67\n",
      "Name: Stock (items), dtype: int64 items\n",
      "\n",
      "Product with less than 40 items:\n",
      "iPad       32\n",
      "Macbook    18\n",
      "Name: Stock (items), dtype: int64\n"
     ]
    }
   ],
   "source": [
    "# Your turn\n",
    "product = [\"iPhone\", \"iPad\", \"Macbook\", \"Airpods\"]\n",
    "stock = [45, 32, 18, 67]\n",
    "\n",
    "stock_series = pd.Series(stock, index=product, name=\"Stock (items)\")\n",
    "print(f\"\\nProduct inventory stock: \\n{stock_series} items\")\n",
    "print(f\"\\nProduct with less than 40 items:\")\n",
    "print(stock_series[stock_series < 40])"
   ]
  },
  {
   "cell_type": "markdown",
   "id": "22f25302",
   "metadata": {},
   "source": [
    "<details>\n",
    "<summary><b>Solution</b></summary>\n",
    "\n",
    "```python\n",
    "inventory = pd.Series(\n",
    "    {'iPhone': 45, 'iPad': 32, 'MacBook': 18, 'AirPods': 67},\n",
    "    name='Stock Count'\n",
    ")\n",
    "print(\"Current Inventory:\")\n",
    "print(inventory)\n",
    "print(\"\\nLow stock items (< 40):\")\n",
    "print(inventory[inventory < 40])\n",
    "```\n",
    "</details>"
   ]
  },
  {
   "cell_type": "markdown",
   "id": "86ac1848",
   "metadata": {},
   "source": [
    "## 3. Series Operations & Methods"
   ]
  },
  {
   "cell_type": "code",
   "execution_count": null,
   "id": "ddf3b8ab",
   "metadata": {},
   "outputs": [],
   "source": [
    "# Mathematical operations work element-wise\n",
    "prices = pd.Series([99.99, 149.99, 199.99, 79.99], \n",
    "                   index=['Basic', 'Standard', 'Premium', 'Student'])\n",
    "\n",
    "# Apply 20% discount\n",
    "discounted = prices * 0.8\n",
    "print(\"Original prices:\")\n",
    "print(prices)\n",
    "print(\"\\nAfter 20% discount:\")\n",
    "print(discounted.round(2))\n",
    "\n",
    "# Useful methods\n",
    "print(f\"\\nPrice stats:\")\n",
    "print(f\"Mean: ${prices.mean():.2f}\")\n",
    "print(f\"Median: ${prices.median():.2f}\")\n",
    "print(f\"Std Dev: ${prices.std():.2f}\")"
   ]
  },
  {
   "cell_type": "markdown",
   "id": "f8c85c5e",
   "metadata": {},
   "source": [
    "## 4. Handling Missing Data"
   ]
  },
  {
   "cell_type": "code",
   "execution_count": null,
   "id": "afdbd6b9",
   "metadata": {},
   "outputs": [],
   "source": [
    "# Real data often has missing values\n",
    "sales = pd.Series([1200, None, 1450, 980, None, 1680],\n",
    "                  index=['Mon', 'Tue', 'Wed', 'Thu', 'Fri', 'Sat'])\n",
    "print(\"Sales with missing data:\")\n",
    "print(sales)\n",
    "print(f\"\\nCount of missing: {sales.isna().sum()}\")\n",
    "print(f\"Mean (ignoring NaN): ${sales.mean():.2f}\")\n",
    "\n",
    "# Fill missing values\n",
    "sales_filled = sales.fillna(sales.mean())\n",
    "print(\"\\nAfter filling with mean:\")\n",
    "print(sales_filled.round(2))"
   ]
  },
  {
   "cell_type": "markdown",
   "id": "17f39466",
   "metadata": {},
   "source": [
    "**Exercise 3 — Temperature Analysis (medium)**  \n",
    "Given a week of temperatures with some missing values, fill them with the median and find days above average.\n"
   ]
  },
  {
   "cell_type": "code",
   "execution_count": 18,
   "id": "64f3255a",
   "metadata": {},
   "outputs": [
    {
     "name": "stdout",
     "output_type": "stream",
     "text": [
      "Last week daily temp (degC): \n",
      "Mon    22.5\n",
      "Tue     NaN\n",
      "Wed    24.1\n",
      "Thu    23.8\n",
      "Fri     NaN\n",
      "Sat    25.2\n",
      "Sun    21.9\n",
      "dtype: float64\n",
      "Missing temp data count: 2 days\n",
      "\n",
      "Week temp with filled median (degC):\n",
      "Mon    22.5\n",
      "Tue    23.8\n",
      "Wed    24.1\n",
      "Thu    23.8\n",
      "Fri    23.8\n",
      "Sat    25.2\n",
      "Sun    21.9\n",
      "dtype: float64\n",
      "\n",
      "Weekly average temp 23.59\n",
      "Days with temp above average (degC):\n",
      "Tue    23.8\n",
      "Wed    24.1\n",
      "Thu    23.8\n",
      "Fri    23.8\n",
      "Sat    25.2\n",
      "dtype: float64\n"
     ]
    }
   ],
   "source": [
    "# Your turn\n",
    "temps = pd.Series([22.5, None, 24.1, 23.8, None, 25.2, 21.9],\n",
    "                  index=['Mon', 'Tue', 'Wed', 'Thu', 'Fri', 'Sat', 'Sun'])\n",
    "\n",
    "print(f\"Last week daily temp (degC): \\n{temps}\")\n",
    "print(f\"Missing temp data count: {temps.isna().sum()} days\")\n",
    "\n",
    "temp_fill = temps.fillna(temps.median())\n",
    "print(\"\\nWeek temp with filled median (degC):\")\n",
    "print(temp_fill.round(1))\n",
    "\n",
    "print(f\"\\nWeekly average temp {temp_fill.mean().round(2)}\")\n",
    "print(\"Days with temp above average (degC):\")\n",
    "print(temp_fill.round(1)[temp_fill > temp_fill.mean()])"
   ]
  },
  {
   "cell_type": "markdown",
   "id": "a54870cb",
   "metadata": {},
   "source": [
    "<details>\n",
    "<summary><b>Solution</b></summary>\n",
    "\n",
    "```python\n",
    "temps = pd.Series([22.5, None, 24.1, 23.8, None, 25.2, 21.9],\n",
    "                  index=['Mon', 'Tue', 'Wed', 'Thu', 'Fri', 'Sat', 'Sun'])\n",
    "print(\"Original temperatures:\")\n",
    "print(temps)\n",
    "\n",
    "# Fill with median\n",
    "temps_filled = temps.fillna(temps.median())\n",
    "print(\"\\nFilled temperatures:\")\n",
    "print(temps_filled)\n",
    "\n",
    "# Find above average days\n",
    "avg_temp = temps_filled.mean()\n",
    "print(f\"\\nAverage: {avg_temp:.1f}°C\")\n",
    "print(\"\\nDays above average:\")\n",
    "print(temps_filled[temps_filled > avg_temp])\n",
    "```\n",
    "</details>"
   ]
  },
  {
   "cell_type": "markdown",
   "id": "b93813ac",
   "metadata": {},
   "source": [
    "## 5. Series Alignment & Combining"
   ]
  },
  {
   "cell_type": "code",
   "execution_count": null,
   "id": "9f70e311",
   "metadata": {},
   "outputs": [],
   "source": [
    "# Pandas aligns by index automatically!\n",
    "q1_sales = pd.Series({'Product_A': 100, 'Product_B': 150, 'Product_C': 200})\n",
    "q2_sales = pd.Series({'Product_B': 180, 'Product_C': 220, 'Product_D': 90})\n",
    "\n",
    "print(\"Q1 Sales:\")\n",
    "print(q1_sales)\n",
    "print(\"\\nQ2 Sales:\")\n",
    "print(q2_sales)\n",
    "\n",
    "# Addition aligns by index\n",
    "total_sales = q1_sales.add(q2_sales, fill_value=0)\n",
    "print(\"\\nTotal Sales (Q1 + Q2):\")\n",
    "print(total_sales)"
   ]
  },
  {
   "cell_type": "markdown",
   "id": "de98963a",
   "metadata": {},
   "source": [
    "**Exercise 4 — Revenue Calculator (hard)**  \n",
    "Given prices and quantities sold, calculate total revenue per product and overall total.\n"
   ]
  },
  {
   "cell_type": "code",
   "execution_count": 19,
   "id": "9b7b1b10",
   "metadata": {},
   "outputs": [
    {
     "name": "stdout",
     "output_type": "stream",
     "text": [
      "Revenue for each product: \n",
      "Keyboard    2400.0\n",
      "Laptop      6000.0\n",
      "Monitor        NaN\n",
      "Mouse       1125.0\n",
      "Webcam         NaN\n",
      "dtype: float64\n",
      "\n",
      "Overall total revenue: 9525.0\n"
     ]
    }
   ],
   "source": [
    "# Your turn\n",
    "prices = pd.Series({'Laptop': 1200, 'Mouse': 25, 'Keyboard': 80, 'Monitor': 350})\n",
    "quantities = pd.Series({'Laptop': 5, 'Mouse': 45, 'Keyboard': 30, 'Webcam': 15})\n",
    "\n",
    "revenue = prices * quantities\n",
    "total_rev = revenue.sum()\n",
    "\n",
    "print(f\"Revenue for each product: \\n{revenue}\")\n",
    "print(\"\\nOverall total revenue:\", total_rev)"
   ]
  },
  {
   "cell_type": "markdown",
   "id": "4cecfa82",
   "metadata": {},
   "source": [
    "<details>\n",
    "<summary><b>Solution</b></summary>\n",
    "\n",
    "```python\n",
    "prices = pd.Series({'Laptop': 1200, 'Mouse': 25, 'Keyboard': 80, 'Monitor': 350})\n",
    "quantities = pd.Series({'Laptop': 5, 'Mouse': 45, 'Keyboard': 30, 'Webcam': 15})\n",
    "\n",
    "# Calculate revenue (handles mismatched indices)\n",
    "revenue = prices * quantities\n",
    "print(\"Revenue per product:\")\n",
    "print(revenue.dropna())  # Drop products we can't calculate\n",
    "\n",
    "print(f\"\\nTotal revenue: ${revenue.sum():.2f}\")\n",
    "print(f\"Best seller: {revenue.idxmax()} (${revenue.max():.2f})\")\n",
    "```\n",
    "</details>"
   ]
  },
  {
   "cell_type": "markdown",
   "id": "8f88bba8",
   "metadata": {},
   "source": [
    "## 6. Mini-Challenges\n",
    "- **M1 (easy):** Create a Series of 10 random numbers and find values > mean\n",
    "- **M2 (medium):** Create a grade Series, convert letter grades to numeric (A=4, B=3, etc.)\n",
    "- **M3 (hard):** Combine two Series with different indices and calculate percentage change"
   ]
  },
  {
   "cell_type": "code",
   "execution_count": 21,
   "id": "0f834bfd",
   "metadata": {},
   "outputs": [
    {
     "name": "stdout",
     "output_type": "stream",
     "text": [
      "Series of random numbers:\n",
      "0    79\n",
      "1    50\n",
      "2    68\n",
      "3    57\n",
      "4    89\n",
      "5    16\n",
      "6    17\n",
      "7    19\n",
      "8    72\n",
      "9    84\n",
      "dtype: int32\n",
      "\n",
      "Mean value: 55.1\n",
      "\n",
      "Values greater than the mean:\n",
      "0    79\n",
      "2    68\n",
      "3    57\n",
      "4    89\n",
      "8    72\n",
      "9    84\n",
      "dtype: int32\n"
     ]
    }
   ],
   "source": [
    "# Your turn - try the challenges!\n",
    "#M1 challenge:\n",
    "numbers = pd.Series(np.random.randint(0, 100, size=10))\n",
    "\n",
    "mean_value = numbers.mean()\n",
    "above_mean = numbers[numbers > mean_value]\n",
    "\n",
    "print(\"Series of random numbers:\")\n",
    "print(numbers)\n",
    "print(\"\\nMean value:\", mean_value)\n",
    "print(\"\\nValues greater than the mean:\")\n",
    "print(above_mean)"
   ]
  },
  {
   "cell_type": "markdown",
   "id": "b1a2e9d0",
   "metadata": {},
   "source": [
    "<details>\n",
    "<summary><b>Solutions</b></summary>\n",
    "\n",
    "```python\n",
    "# M1\n",
    "random_series = pd.Series(np.random.randn(10))\n",
    "print(random_series[random_series > random_series.mean()])\n",
    "\n",
    "# M2\n",
    "grades = pd.Series(['A', 'B', 'A', 'C', 'B', 'D'])\n",
    "grade_map = {'A': 4, 'B': 3, 'C': 2, 'D': 1, 'F': 0}\n",
    "numeric_grades = grades.map(grade_map)\n",
    "print(f\"GPA: {numeric_grades.mean():.2f}\")\n",
    "\n",
    "# M3\n",
    "jan = pd.Series({'A': 100, 'B': 200, 'C': 150})\n",
    "feb = pd.Series({'B': 220, 'C': 140, 'D': 80})\n",
    "pct_change = ((feb - jan) / jan * 100).round(2)\n",
    "print(pct_change.dropna())\n",
    "```\n",
    "</details>"
   ]
  },
  {
   "cell_type": "markdown",
   "id": "aba28e65",
   "metadata": {},
   "source": [
    "## Wrap-Up & Next Steps\n",
    "✅ You've mastered Series - the building block of DataFrames!  \n",
    "✅ You can create, filter, and manipulate data efficiently  \n",
    "✅ You understand index alignment and missing data handling  \n",
    "\n",
    "**Next:** DataFrames - think of them as multiple Series combined into a table!\n"
   ]
  }
 ],
 "metadata": {
  "kernelspec": {
   "display_name": "AItech_intmd (Pyth3_12)",
   "language": "python",
   "name": "aitech_intmed"
  },
  "language_info": {
   "codemirror_mode": {
    "name": "ipython",
    "version": 3
   },
   "file_extension": ".py",
   "mimetype": "text/x-python",
   "name": "python",
   "nbconvert_exporter": "python",
   "pygments_lexer": "ipython3",
   "version": "3.12.11"
  }
 },
 "nbformat": 4,
 "nbformat_minor": 5
}
