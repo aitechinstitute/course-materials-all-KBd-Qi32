{
 "cells": [
  {
   "cell_type": "markdown",
   "id": "a8c5b8e8-8068-45a9-9333-909c33aa39a6",
   "metadata": {},
   "source": [
    "# Rock Paper Scissor game\n",
    "### Welcome to the Best of 5 Rounds"
   ]
  },
  {
   "cell_type": "code",
   "execution_count": 3,
   "id": "dc9833d0-558e-44c8-aa23-1cba5f3043ca",
   "metadata": {},
   "outputs": [
    {
     "name": "stdin",
     "output_type": "stream",
     "text": [
      "Enter rock, paper, or scissors (or 'quit' to stop):  Rock\n"
     ]
    },
    {
     "name": "stdout",
     "output_type": "stream",
     "text": [
      "\n",
      "Round 1\n",
      "You chose: rock\n",
      "Computer chose: rock\n",
      "It's a tie!\n",
      "Score - Player: 0, Computer: 0, Ties: 1\n"
     ]
    },
    {
     "name": "stdin",
     "output_type": "stream",
     "text": [
      "Enter rock, paper, or scissors (or 'quit' to stop):  Rock\n"
     ]
    },
    {
     "name": "stdout",
     "output_type": "stream",
     "text": [
      "\n",
      "Round 2\n",
      "You chose: rock\n",
      "Computer chose: paper\n",
      "Computer wins this round!\n",
      "Score - Player: 0, Computer: 1, Ties: 1\n"
     ]
    },
    {
     "name": "stdin",
     "output_type": "stream",
     "text": [
      "Enter rock, paper, or scissors (or 'quit' to stop):  Rock\n"
     ]
    },
    {
     "name": "stdout",
     "output_type": "stream",
     "text": [
      "\n",
      "Round 3\n",
      "You chose: rock\n",
      "Computer chose: paper\n",
      "Computer wins this round!\n",
      "Score - Player: 0, Computer: 2, Ties: 1\n"
     ]
    },
    {
     "name": "stdin",
     "output_type": "stream",
     "text": [
      "Enter rock, paper, or scissors (or 'quit' to stop):  QUIT\n"
     ]
    },
    {
     "name": "stdout",
     "output_type": "stream",
     "text": [
      "\n",
      "Game ended early - Player: 0, Computer: 2, Ties: 1\n",
      "Nice playing with you.. Bye!\n",
      "\n",
      "Final Results:\n",
      "Player: 0, Computer: 2, Ties: 1\n",
      "Computer is the overall winner!\n",
      "Thanks for playing!\n"
     ]
    }
   ],
   "source": [
    "import random\n",
    "\n",
    "choices = [\"rock\", \"paper\", \"scissors\"]\n",
    "player_score = 0\n",
    "computer_score = 0\n",
    "ties = 0\n",
    "rounds = 0\n",
    "max_rounds = 5\n",
    "\n",
    "while rounds < max_rounds:\n",
    "    #get player choice each round\n",
    "    player = input(\"Enter rock, paper, or scissors (or 'quit' to stop): \").lower()\n",
    "    \n",
    "    # check if player quitting\n",
    "    if player == \"quit\":\n",
    "        print(f\"\\nGame ended early - Player: {player_score}, Computer: {computer_score}, Ties: {ties}\")\n",
    "        print(\"Nice playing with you.. Bye!\")\n",
    "        break\n",
    "    \n",
    "    # to validate the input\n",
    "    if player not in choices:\n",
    "        print(\"Invalid choice! Please choose rock, paper, or scissors.\")\n",
    "        continue\n",
    "    computer = random.choice(choices)\n",
    "    \n",
    "    print(f\"\\nRound {rounds + 1}\")\n",
    "    print(f\"You chose: {player}\")\n",
    "    print(f\"Computer chose: {computer}\")\n",
    "    \n",
    "    # to determine the winner\n",
    "    if player == computer:\n",
    "        print(\"It's a tie!\")\n",
    "        ties += 1\n",
    "    elif (\n",
    "        (player == \"rock\" and computer == \"scissors\")\n",
    "        or (player == \"paper\" and computer == \"rock\")\n",
    "        or (player == \"scissors\" and computer == \"paper\")):\n",
    "        print(\"You win this round!\")\n",
    "        player_score += 1\n",
    "    else:\n",
    "        print(\"Computer wins this round!\")\n",
    "        computer_score += 1\n",
    "    \n",
    "    rounds += 1\n",
    "    print(f\"Score - Player: {player_score}, Computer: {computer_score}, Ties: {ties}\")\n",
    "    #checking for early win (first to 3 wins)\n",
    "    if player_score >= 3 or computer_score >= 3:\n",
    "        print(f\"\\nGame Over after {rounds} rounds!\")\n",
    "        break\n",
    "\n",
    "#result and displaying final winner\n",
    "print(\"\\nFinal Results:\")\n",
    "print(f\"Player: {player_score}, Computer: {computer_score}, Ties: {ties}\")\n",
    "if player_score > computer_score:\n",
    "    print(\"Congratulations! You are the overall winner!\")\n",
    "elif computer_score > player_score:\n",
    "    print(\"Computer is the overall winner!\")\n",
    "else:\n",
    "    print(\"It's a tie overall!\")\n",
    "print(\"Thanks for playing!\")"
   ]
  },
  {
   "cell_type": "code",
   "execution_count": null,
   "id": "54ee81f0-3b16-4708-936c-7b9c98f10766",
   "metadata": {},
   "outputs": [],
   "source": []
  }
 ],
 "metadata": {
  "kernelspec": {
   "display_name": "Kres Jpyt AI_tech (Py3_13)",
   "language": "python",
   "name": "qrs_jupyter_work_env"
  },
  "language_info": {
   "codemirror_mode": {
    "name": "ipython",
    "version": 3
   },
   "file_extension": ".py",
   "mimetype": "text/x-python",
   "name": "python",
   "nbconvert_exporter": "python",
   "pygments_lexer": "ipython3",
   "version": "3.13.5"
  }
 },
 "nbformat": 4,
 "nbformat_minor": 5
}
